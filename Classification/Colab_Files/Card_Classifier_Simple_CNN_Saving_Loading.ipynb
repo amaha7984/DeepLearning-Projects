{
 "cells": [
  {
   "cell_type": "code",
   "execution_count": 1,
   "id": "c5c3d206-0011-4c9d-9a03-174dbd144f7a",
   "metadata": {},
   "outputs": [],
   "source": [
    "import torch\n",
    "import torch.nn as nn\n",
    "from torch.utils.data import Dataset, DataLoader\n",
    "import torchvision\n",
    "import torchvision.transforms as transforms\n",
    "from torchvision.datasets import ImageFolder\n",
    "import torch.optim as optim\n",
    "import torch.nn.functional as F\n",
    "from tqdm.notebook import tqdm\n"
   ]
  },
  {
   "cell_type": "code",
   "execution_count": 2,
   "id": "83c155cb-ca50-4d0a-bbb1-0297d32fd02a",
   "metadata": {},
   "outputs": [],
   "source": [
    "class CardDataset(Dataset):\n",
    "    def __init__(self, dir_path, transform=None):\n",
    "        self.data = ImageFolder(dir_path, transform = transform)\n",
    "\n",
    "    def __len__(self):\n",
    "        return len(self.data)\n",
    "\n",
    "    def __getitem__(self, idx):\n",
    "        return self.data[idx]\n",
    "    "
   ]
  },
  {
   "cell_type": "code",
   "execution_count": 3,
   "id": "ea5032a0-cd62-4fb6-8bf1-7a96b2786313",
   "metadata": {},
   "outputs": [],
   "source": [
    "transform = transforms.Compose([\n",
    "    transforms.Resize((224, 224)),\n",
    "    transforms.ToTensor()\n",
    "])"
   ]
  },
  {
   "cell_type": "code",
   "execution_count": 4,
   "id": "8a3fae6c-a754-40f2-ba7f-9b6be9fb4019",
   "metadata": {},
   "outputs": [],
   "source": [
    "train_path = '/aul/homes/amaha038/DeepLearning/Datasets/Card_Dataset_Kaggle/train'\n",
    "val_path = '/aul/homes/amaha038/DeepLearning/Datasets/Card_Dataset_Kaggle/valid/'\n",
    "\n",
    "train_data = CardDataset(train_path, transform = transform)\n",
    "val_data = CardDataset(val_path, transform = transform)"
   ]
  },
  {
   "cell_type": "code",
   "execution_count": 5,
   "id": "8e869298-fbfa-4892-9311-8396ed23b052",
   "metadata": {},
   "outputs": [],
   "source": [
    "train_loader = DataLoader(train_data, batch_size = 32, shuffle=True)\n",
    "val_loader = DataLoader(val_data, batch_size = 32, shuffle=False)"
   ]
  },
  {
   "cell_type": "code",
   "execution_count": null,
   "id": "f0ffb7c6-49cb-4e97-a392-41ca44a16e05",
   "metadata": {},
   "outputs": [],
   "source": [
    "#Formula for Convolution Layer Operation\n",
    "\"\"\"\n",
    "nn.conv2d = (W - F + 2P)/S + 1,\n",
    "where W = width of the input (image)\n",
    "F = Filter size (kernel)\n",
    "P = Padding\n",
    "S = stride \n",
    "\"\"\"\n",
    "#In our case\n",
    "\"\"\"\n",
    "Width = 224\n",
    "F = 3\n",
    "S = 1\n",
    "P = 0\n",
    "\n",
    "Hence, the output of self.conv1 = (224-3+0)/1 + 1 = 222\n",
    "\"\"\"\n",
    "#Note By Default: torch.nn.Conv2d(in_channels, out_channels, kernel_size, stride=1, padding=0)"
   ]
  },
  {
   "cell_type": "code",
   "execution_count": 6,
   "id": "122be8fb-c4cc-499b-a8e4-e17f3945405c",
   "metadata": {},
   "outputs": [],
   "source": [
    "num_classes = 53\n",
    "class SimpleCNNClassifier(nn.Module):\n",
    "    def __init__(self, num_classes):\n",
    "        super(SimpleCNNClassifier, self).__init__()\n",
    "\n",
    "        self.conv1 = nn.Conv2d(3, 6, 3) # in_channels=3, out_channels=16, kernel_size=3 It gives 222\n",
    "        self.pool = nn.MaxPool2d(2, 2) # image size 6*111*111(222/2)\n",
    "        self.conv2 = nn.Conv2d(6, 16,3)  #  (111 - 3 + 1) = 109\n",
    "        # pooling again with 16*54*54 (109/2)\n",
    "        self.fc1 = nn.Linear(16*54*54, 256) #256 is selected manually\n",
    "        self.fc2 = nn.Linear(256, num_classes)\n",
    "\n",
    "    def forward(self, x):\n",
    "        x = self.pool(F.relu(self.conv1(x))) # (32, 6, 111, 111) #(Batchsize, channel, dimension_height, dimension_width)\n",
    "        x = self.pool(F.relu(self.conv2(x))) # (32, 16, 54, 54)\n",
    "        x = x.view(x.size(0), -1) # Flatten: (32, 16*54*54)\n",
    "        x = F.relu(self.fc1(x))\n",
    "        x = self.fc2(x)\n",
    "        return x \n",
    "        "
   ]
  },
  {
   "cell_type": "code",
   "execution_count": 7,
   "id": "79ac7d52-350f-4e31-aa68-38f225634240",
   "metadata": {},
   "outputs": [],
   "source": [
    "model = SimpleCNNClassifier(num_classes)\n",
    "device = torch.device(\"cuda\" if torch.cuda.is_available() else \"cpu\")\n",
    "model.to(device)\n",
    "\n",
    "criterion = nn.CrossEntropyLoss()\n",
    "optimizer = optim.Adam(model.parameters(), lr = 0.001)"
   ]
  },
  {
   "cell_type": "code",
   "execution_count": 9,
   "id": "6b8cf941-1455-4912-a9b7-4ae06c677aed",
   "metadata": {},
   "outputs": [
    {
     "data": {
      "application/vnd.jupyter.widget-view+json": {
       "model_id": "d1e396f326784b6383849023364cd586",
       "version_major": 2,
       "version_minor": 0
      },
      "text/plain": [
       "Training loop:   0%|          | 0/239 [00:00<?, ?it/s]"
      ]
     },
     "metadata": {},
     "output_type": "display_data"
    },
    {
     "data": {
      "application/vnd.jupyter.widget-view+json": {
       "model_id": "ff702a28c41a4878a8762371bbe7b0fa",
       "version_major": 2,
       "version_minor": 0
      },
      "text/plain": [
       "Validation loop:   0%|          | 0/9 [00:00<?, ?it/s]"
      ]
     },
     "metadata": {},
     "output_type": "display_data"
    },
    {
     "name": "stdout",
     "output_type": "stream",
     "text": [
      "Epoch 1/2 - Train loss: 2.934760473957842, Val Loss: 1.609550942115064. Train Acc.: 0.2433105981112277, Val Acc.: 0.5245283018867924\n",
      "The model weight is saved based on val_acc: 0.5245\n",
      "The model weight is saved based on val_loss: 1.6096\n"
     ]
    },
    {
     "data": {
      "application/vnd.jupyter.widget-view+json": {
       "model_id": "cf2f9081bfa04cb7ac35f0a6fbc340dc",
       "version_major": 2,
       "version_minor": 0
      },
      "text/plain": [
       "Training loop:   0%|          | 0/239 [00:00<?, ?it/s]"
      ]
     },
     "metadata": {},
     "output_type": "display_data"
    },
    {
     "data": {
      "application/vnd.jupyter.widget-view+json": {
       "model_id": "77ed9bfbce1b4385bbca91f04f03b2f8",
       "version_major": 2,
       "version_minor": 0
      },
      "text/plain": [
       "Validation loop:   0%|          | 0/9 [00:00<?, ?it/s]"
      ]
     },
     "metadata": {},
     "output_type": "display_data"
    },
    {
     "name": "stdout",
     "output_type": "stream",
     "text": [
      "Epoch 2/2 - Train loss: 1.6072091625970157, Val Loss: 1.2928998326355556. Train Acc.: 0.5661070304302204, Val Acc.: 0.630188679245283\n",
      "The model weight is saved based on val_acc: 0.6302\n",
      "The model weight is saved based on val_loss: 1.2929\n"
     ]
    }
   ],
   "source": [
    "#training\n",
    "epochs = 2\n",
    "train_losses, val_losses = [], []\n",
    "best_val_acc = 0.0\n",
    "best_val_loss = float('inf')\n",
    "\n",
    "for epoch in range(epochs):\n",
    "\n",
    "    #training\n",
    "    model.train()\n",
    "    running_loss = 0.0\n",
    "    correct_train = 0\n",
    "    total_train = 0\n",
    "\n",
    "    for images, labels in tqdm(train_loader, desc='Training loop'):\n",
    "        images, labels = images.to(device), labels.to(device)\n",
    "\n",
    "        optimizer.zero_grad()\n",
    "        outputs = model(images)\n",
    "        loss = criterion(outputs, labels)\n",
    "\n",
    "        #prediction\n",
    "        _, preds = torch.max(outputs, 1)\n",
    "        correct_train += (preds == labels).sum().item()\n",
    "        total_train += labels.size(0)\n",
    "\n",
    "        loss.backward()\n",
    "        optimizer.step()\n",
    "        running_loss += loss.item() * labels.size(0) # loss.item() gives the average loss per image in the current batch\n",
    "    train_loss = running_loss / len(train_loader.dataset)\n",
    "    train_losses.append(train_loss)\n",
    "    train_acc = correct_train / total_train\n",
    "\n",
    "    #validation phase\n",
    "\n",
    "    model.eval()\n",
    "    running_loss = 0.0\n",
    "    correct_val = 0\n",
    "    total_val = 0\n",
    "\n",
    "    with torch.no_grad():\n",
    "        for images, labels in tqdm(val_loader, desc='Validation loop'):\n",
    "            images, labels = images.to(device), labels.to(device)\n",
    "\n",
    "            outputs = model(images)\n",
    "            loss = criterion(outputs, labels)\n",
    "\n",
    "            _, preds = torch.max(outputs, 1)\n",
    "            correct_val += (preds == labels).sum().item()\n",
    "            total_val += labels.size(0)\n",
    "            running_loss += loss.item() * labels.size(0)\n",
    "    val_loss = running_loss / len(val_loader.dataset)\n",
    "    val_losses.append(val_loss)\n",
    "    val_acc = correct_val / total_val\n",
    "\n",
    "    print(f\"Epoch {epoch+1}/{epochs} - Train loss: {train_loss}, Val Loss: {val_loss}. Train Acc.: {train_acc}, Val Acc.: {val_acc}\")\n",
    "\n",
    "    if val_acc > best_val_acc:\n",
    "        best_val_acc = val_acc\n",
    "        torch.save(model.state_dict(), './weights/best_val_acc.pth')\n",
    "        print(f\"The model weight is saved based on val_acc: {best_val_acc:.4f}\")\n",
    "\n",
    "    if val_loss < best_val_loss:\n",
    "        best_val_loss = val_loss\n",
    "        torch.save(model.state_dict(), './weights/best_val_loss.pth')\n",
    "        print(f\"The model weight is saved based on val_loss: {best_val_loss:.4f}\")\n",
    "        \n",
    "    "
   ]
  },
  {
   "cell_type": "code",
   "execution_count": 10,
   "id": "98677bed-df15-4bb4-b73e-32c791805261",
   "metadata": {},
   "outputs": [],
   "source": [
    "test_path = \"/aul/homes/amaha038/DeepLearning/Datasets/Card_Dataset_Kaggle/test\"\n",
    "\n",
    "test_data = CardDataset(test_path, transform=transform)\n",
    "\n",
    "test_loader = DataLoader(test_data, batch_size=32, shuffle=False)\n"
   ]
  },
  {
   "cell_type": "code",
   "execution_count": 11,
   "id": "c1e5103c-3721-4472-a3a2-264534ea4fde",
   "metadata": {},
   "outputs": [
    {
     "name": "stderr",
     "output_type": "stream",
     "text": [
      "/tmp/ipykernel_1331899/415696116.py:2: FutureWarning: You are using `torch.load` with `weights_only=False` (the current default value), which uses the default pickle module implicitly. It is possible to construct malicious pickle data which will execute arbitrary code during unpickling (See https://github.com/pytorch/pytorch/blob/main/SECURITY.md#untrusted-models for more details). In a future release, the default value for `weights_only` will be flipped to `True`. This limits the functions that could be executed during unpickling. Arbitrary objects will no longer be allowed to be loaded via this mode unless they are explicitly allowlisted by the user via `torch.serialization.add_safe_globals`. We recommend you start setting `weights_only=True` for any use case where you don't have full control of the loaded file. Please open an issue on GitHub for any issues related to this experimental feature.\n",
      "  model.load_state_dict(torch.load('./weights/best_val_acc.pth'))\n"
     ]
    },
    {
     "data": {
      "text/plain": [
       "SimpleCNNClassifier(\n",
       "  (conv1): Conv2d(3, 6, kernel_size=(3, 3), stride=(1, 1))\n",
       "  (pool): MaxPool2d(kernel_size=2, stride=2, padding=0, dilation=1, ceil_mode=False)\n",
       "  (conv2): Conv2d(6, 16, kernel_size=(3, 3), stride=(1, 1))\n",
       "  (fc1): Linear(in_features=46656, out_features=256, bias=True)\n",
       "  (fc2): Linear(in_features=256, out_features=53, bias=True)\n",
       ")"
      ]
     },
     "execution_count": 11,
     "metadata": {},
     "output_type": "execute_result"
    }
   ],
   "source": [
    "model = SimpleCNNClassifier(num_classes=53)\n",
    "model.load_state_dict(torch.load('./weights/best_val_acc.pth'))\n",
    "model.to(device)\n",
    "                    "
   ]
  },
  {
   "cell_type": "code",
   "execution_count": 20,
   "id": "bf6ea83b-e87c-4e77-a2f3-70c31cb741e0",
   "metadata": {},
   "outputs": [
    {
     "name": "stdout",
     "output_type": "stream",
     "text": [
      "Total test loss: 1.3175 and total test accuracy: 0.6302\n"
     ]
    }
   ],
   "source": [
    "model.eval()\n",
    "\n",
    "total_loss = 0.0\n",
    "total_acc = 0\n",
    "total_test = 0\n",
    "with torch.no_grad():\n",
    "    for images, labels in test_loader:\n",
    "        images, labels = images.to(device), labels.to(device)\n",
    "        outputs = model(images)\n",
    "        loss = criterion(outputs, labels)\n",
    "\n",
    "        _, preds = torch.max(outputs, 1)\n",
    "        total_acc += (preds==labels).sum().item()\n",
    "        total_test += labels.size(0)\n",
    "\n",
    "        total_loss += loss.item() * labels.size(0)\n",
    "test_acc = total_acc / total_test\n",
    "test_loss = total_loss / total_test\n",
    "\n",
    "print(f\"Total test loss: {test_loss:.4f} and total test accuracy: {test_acc:.4f}\")\n"
   ]
  },
  {
   "cell_type": "code",
   "execution_count": null,
   "id": "d2af6281-68e2-4b5c-a522-c2c0d6c74fea",
   "metadata": {},
   "outputs": [],
   "source": []
  }
 ],
 "metadata": {
  "kernelspec": {
   "display_name": "Python 3.9 (learnVenv)",
   "language": "python",
   "name": "learnvenv"
  },
  "language_info": {
   "codemirror_mode": {
    "name": "ipython",
    "version": 3
   },
   "file_extension": ".py",
   "mimetype": "text/x-python",
   "name": "python",
   "nbconvert_exporter": "python",
   "pygments_lexer": "ipython3",
   "version": "3.9.20"
  }
 },
 "nbformat": 4,
 "nbformat_minor": 5
}
