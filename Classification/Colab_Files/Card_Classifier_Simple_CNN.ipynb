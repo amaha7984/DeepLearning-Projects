{
 "cells": [
  {
   "cell_type": "code",
   "execution_count": 38,
   "id": "c5c3d206-0011-4c9d-9a03-174dbd144f7a",
   "metadata": {},
   "outputs": [],
   "source": [
    "import torch\n",
    "import torch.nn as nn\n",
    "from torch.utils.data import Dataset, DataLoader\n",
    "import torchvision\n",
    "import torchvision.transforms as transforms\n",
    "from torchvision.datasets import ImageFolder\n",
    "import torch.optim as optim\n",
    "import torch.nn.functional as F\n",
    "from tqdm.notebook import tqdm\n"
   ]
  },
  {
   "cell_type": "code",
   "execution_count": 39,
   "id": "83c155cb-ca50-4d0a-bbb1-0297d32fd02a",
   "metadata": {},
   "outputs": [],
   "source": [
    "class CardDataset(Dataset):\n",
    "    def __init__(self, dir_path, transform=None):\n",
    "        self.data = ImageFolder(dir_path, transform = transform)\n",
    "\n",
    "    def __len__(self):\n",
    "        return len(self.data)\n",
    "\n",
    "    def __getitem__(self, idx):\n",
    "        return self.data[idx]\n",
    "    "
   ]
  },
  {
   "cell_type": "code",
   "execution_count": 40,
   "id": "ea5032a0-cd62-4fb6-8bf1-7a96b2786313",
   "metadata": {},
   "outputs": [],
   "source": [
    "transform = transforms.Compose([\n",
    "    transforms.Resize((224, 224)),\n",
    "    transforms.ToTensor()\n",
    "])"
   ]
  },
  {
   "cell_type": "code",
   "execution_count": 41,
   "id": "8a3fae6c-a754-40f2-ba7f-9b6be9fb4019",
   "metadata": {},
   "outputs": [],
   "source": [
    "train_path = '/aul/homes/amaha038/DeepLearning/Datasets/Card_Dataset_Kaggle/train'\n",
    "val_path = '/aul/homes/amaha038/DeepLearning/Datasets/Card_Dataset_Kaggle/valid/'\n",
    "\n",
    "train_data = CardDataset(train_path, transform = transform)\n",
    "val_data = CardDataset(val_path, transform = transform)"
   ]
  },
  {
   "cell_type": "code",
   "execution_count": 42,
   "id": "8e869298-fbfa-4892-9311-8396ed23b052",
   "metadata": {},
   "outputs": [],
   "source": [
    "train_loader = DataLoader(train_data, batch_size = 32, shuffle=True)\n",
    "val_loader = DataLoader(val_data, batch_size = 32, shuffle=False)"
   ]
  },
  {
   "cell_type": "code",
   "execution_count": null,
   "id": "f0ffb7c6-49cb-4e97-a392-41ca44a16e05",
   "metadata": {},
   "outputs": [],
   "source": [
    "#Formula for Convolution Layer Operation\n",
    "\"\"\"\n",
    "nn.conv2d = (W - F + 2P)/S + 1,\n",
    "where W = width of the input (image)\n",
    "F = Filter size (kernel)\n",
    "P = Padding\n",
    "S = stride \n",
    "\"\"\"\n",
    "#In our case\n",
    "\"\"\"\n",
    "Width = 224\n",
    "F = 3\n",
    "S = 1\n",
    "P = 0\n",
    "\n",
    "Hence, the output of self.conv1 = (224-3+0)/1 + 1 = 222\n",
    "\"\"\"\n",
    "#Note By Default: torch.nn.Conv2d(in_channels, out_channels, kernel_size, stride=1, padding=0)"
   ]
  },
  {
   "cell_type": "code",
   "execution_count": 43,
   "id": "122be8fb-c4cc-499b-a8e4-e17f3945405c",
   "metadata": {},
   "outputs": [],
   "source": [
    "num_classes = 53\n",
    "class SimpleCNNClassifier(nn.Module):\n",
    "    def __init__(self, num_classes):\n",
    "        super(SimpleCNNClassifier, self).__init__()\n",
    "\n",
    "        self.conv1 = nn.Conv2d(3, 6, 3) # in_channels=3, out_channels=16, kernel_size=3 It gives 222\n",
    "        self.pool = nn.MaxPool2d(2, 2) # image size 6*111*111(222/2)\n",
    "        self.conv2 = nn.Conv2d(6, 16,3)  #  (111 - 3 + 1) = 109\n",
    "        # pooling again with 16*54*54 (109/2)\n",
    "        self.fc1 = nn.Linear(16*54*54, 256) #256 is selected manually\n",
    "        self.fc2 = nn.Linear(256, num_classes)\n",
    "\n",
    "    def forward(self, x):\n",
    "        x = self.pool(F.relu(self.conv1(x))) # (32, 6, 111, 111) #(Batchsize, channel, dimension_height, dimension_width)\n",
    "        x = self.pool(F.relu(self.conv2(x))) # (32, 16, 54, 54)\n",
    "        x = x.view(x.size(0), -1) # Flatten: (32, 16*54*54)\n",
    "        x = F.relu(self.fc1(x))\n",
    "        x = self.fc2(x)\n",
    "        return x \n",
    "        "
   ]
  },
  {
   "cell_type": "code",
   "execution_count": 44,
   "id": "79ac7d52-350f-4e31-aa68-38f225634240",
   "metadata": {},
   "outputs": [],
   "source": [
    "model = SimpleCNNClassifier(num_classes)\n",
    "device = torch.device(\"cuda\" if torch.cuda.is_available() else \"cpu\")\n",
    "model.to(device)\n",
    "\n",
    "criterion = nn.CrossEntropyLoss()\n",
    "optimizer = optim.Adam(model.parameters(), lr = 0.001)"
   ]
  },
  {
   "cell_type": "code",
   "execution_count": 45,
   "id": "6b8cf941-1455-4912-a9b7-4ae06c677aed",
   "metadata": {},
   "outputs": [
    {
     "data": {
      "application/vnd.jupyter.widget-view+json": {
       "model_id": "423e8859523f4c0784e2657fa3cc7b6e",
       "version_major": 2,
       "version_minor": 0
      },
      "text/plain": [
       "Training loop:   0%|          | 0/239 [00:00<?, ?it/s]"
      ]
     },
     "metadata": {},
     "output_type": "display_data"
    },
    {
     "data": {
      "application/vnd.jupyter.widget-view+json": {
       "model_id": "b295fa536a504e3aa1a9cd3657c638ca",
       "version_major": 2,
       "version_minor": 0
      },
      "text/plain": [
       "Validation loop:   0%|          | 0/9 [00:00<?, ?it/s]"
      ]
     },
     "metadata": {},
     "output_type": "display_data"
    },
    {
     "name": "stdout",
     "output_type": "stream",
     "text": [
      "Epoch 1/2 - Train loss: 3.2338026398001287, Val Loss: 2.1965630972160484. Train Acc.: 0.16448058761804826, Val Acc.: 0.3433962264150943\n"
     ]
    },
    {
     "data": {
      "application/vnd.jupyter.widget-view+json": {
       "model_id": "b6b4e65b94bc4aa08c889374ad0a61bb",
       "version_major": 2,
       "version_minor": 0
      },
      "text/plain": [
       "Training loop:   0%|          | 0/239 [00:00<?, ?it/s]"
      ]
     },
     "metadata": {},
     "output_type": "display_data"
    },
    {
     "data": {
      "application/vnd.jupyter.widget-view+json": {
       "model_id": "b0714146ac954020b84d777179243f76",
       "version_major": 2,
       "version_minor": 0
      },
      "text/plain": [
       "Validation loop:   0%|          | 0/9 [00:00<?, ?it/s]"
      ]
     },
     "metadata": {},
     "output_type": "display_data"
    },
    {
     "name": "stdout",
     "output_type": "stream",
     "text": [
      "Epoch 2/2 - Train loss: 2.018478906917672, Val Loss: 1.4396156153588924. Train Acc.: 0.4425498426023085, Val Acc.: 0.5773584905660377\n"
     ]
    }
   ],
   "source": [
    "#training\n",
    "epochs = 2\n",
    "train_losses, val_losses = [], []\n",
    "\n",
    "for epoch in range(epochs):\n",
    "\n",
    "    #training\n",
    "    model.train()\n",
    "    running_loss = 0.0\n",
    "    correct_train = 0\n",
    "    total_train = 0\n",
    "\n",
    "    for images, labels in tqdm(train_loader, desc='Training loop'):\n",
    "        images, labels = images.to(device), labels.to(device)\n",
    "\n",
    "        optimizer.zero_grad()\n",
    "        outputs = model(images)\n",
    "        loss = criterion(outputs, labels)\n",
    "\n",
    "        #prediction\n",
    "        _, preds = torch.max(outputs, 1)\n",
    "        correct_train += (preds == labels).sum().item()\n",
    "        total_train += labels.size(0)\n",
    "\n",
    "        loss.backward()\n",
    "        optimizer.step()\n",
    "        running_loss += loss.item() * labels.size(0) # loss.item() gives the average loss per image in the current batch\n",
    "    train_loss = running_loss / len(train_loader.dataset)\n",
    "    train_losses.append(train_loss)\n",
    "    train_acc = correct_train / total_train\n",
    "\n",
    "    #validation phase\n",
    "\n",
    "    model.eval()\n",
    "    running_loss = 0.0\n",
    "    correct_val = 0\n",
    "    total_val = 0\n",
    "\n",
    "    with torch.no_grad():\n",
    "        for images, labels in tqdm(val_loader, desc='Validation loop'):\n",
    "            images, labels = images.to(device), labels.to(device)\n",
    "\n",
    "            outputs = model(images)\n",
    "            loss = criterion(outputs, labels)\n",
    "\n",
    "            _, preds = torch.max(outputs, 1)\n",
    "            correct_val += (preds == labels).sum().item()\n",
    "            total_val += labels.size(0)\n",
    "            running_loss += loss.item() * labels.size(0)\n",
    "    val_loss = running_loss / len(val_loader.dataset)\n",
    "    val_losses.append(val_loss)\n",
    "    val_acc = correct_val / total_val\n",
    "\n",
    "    print(f\"Epoch {epoch+1}/{epochs} - Train loss: {train_loss}, Val Loss: {val_loss}. Train Acc.: {train_acc}, Val Acc.: {val_acc}\")\n",
    "        \n",
    "    "
   ]
  },
  {
   "cell_type": "code",
   "execution_count": null,
   "id": "76d76ee9-c770-44b6-8530-dcc3b9a83568",
   "metadata": {},
   "outputs": [],
   "source": [
    "#"
   ]
  }
 ],
 "metadata": {
  "kernelspec": {
   "display_name": "Python 3.9 (learnVenv)",
   "language": "python",
   "name": "learnvenv"
  },
  "language_info": {
   "codemirror_mode": {
    "name": "ipython",
    "version": 3
   },
   "file_extension": ".py",
   "mimetype": "text/x-python",
   "name": "python",
   "nbconvert_exporter": "python",
   "pygments_lexer": "ipython3",
   "version": "3.9.20"
  }
 },
 "nbformat": 4,
 "nbformat_minor": 5
}
